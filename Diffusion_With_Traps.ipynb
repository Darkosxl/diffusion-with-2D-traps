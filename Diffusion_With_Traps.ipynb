{
 "cells": [
  {
   "cell_type": "code",
   "execution_count": null,
   "metadata": {},
   "outputs": [],
   "source": [
    "import numpy as numpy\n",
    "import matplotlib.pyplot as plt\n"
   ]
  },
  {
   "cell_type": "markdown",
   "metadata": {},
   "source": [
    "# Diffusion in a 2D domain with Traps"
   ]
  },
  {
   "cell_type": "markdown",
   "metadata": {},
   "source": [
    "## Aim of the Project:\n",
    "\n",
    "Investigate of a diffusion of a particle in a 2D domain with traps. Explore how the mean square displacement (MSD) of the particle changes over time as a function of trap density and the trapping time parameter λ (lambda), which represents the average trapping time relative to the characteristic time of free diffusion.\n",
    "\n",
    "\n",
    "\n",
    "## Methodology\n",
    "\n",
    "Simulation of Diffusion in a 2D Domain with Traps:\n",
    "\n",
    "  1) Random Walk Algorithm Implementation:\n",
    "Simulate the random motion of particles on a 2D square lattice of size M × M\n",
    "At each time step, particles move to one of their four neighboring sites (up, down, left, right) with equal probability.\n",
    "Implement periodic boundary conditions to eliminate edge effects.\n",
    "\n",
    "  2) Incorporation of Trapping Times\n",
    "  \n",
    "To place traps: Randomly distribute traps on the lattice based on a specified trap density 𝜌 (fraction of sites that are traps).\n",
    "Ensure that particles do not start on a trap site. The trapping mechanism functions when the particle lands on said trap, the particle becomes immobilized for a time drawn from an exponential distribtuion with mean trapping time τ = λδt. After the time elapses, the particle resumes its random walk.\n",
    "\n",
    "  3) Data Collection:\n",
    "\n",
    "Simulate N particles. Compute and record the square displacement of each partlice from its starting position at each time step. Repeate simulations for  various trap densities (p = 0.0, 0.1, 0.2, 0.3) and lambda values (𝜆 = 0.1, 1, 10)\n",
    "\n",
    "  4) Analysis and Visualization:\n",
    "\n",
    "Calculate mean square displacement as a function of time for different trap densities and lambda values. Determine fraction of particles that are not trapped at each time step. Plot MSD (mean square displacement) vs. time for different parameters to observe the diffusion behavior. Explore how trap density and lambda value affect the diffusion process.\n",
    "\n",
    "\n",
    "\n",
    "\n",
    "\n"
   ]
  },
  {
   "cell_type": "markdown",
   "metadata": {},
   "source": [
    "____________________________________________________________________________________________________________\n",
    "\n",
    "\n",
    "## Results\n",
    "\n",
    "### Simulation of the Diffusion Process:\n",
    "\n",
    "Successfully implemented the random walk simulation with trapping events. Particles exhibited normal diffusion in the absence of traps           (𝜌 = 0.0), confirming the validity of the simulation\n",
    "\n",
    "### Impact of Traps on Diffusion:\n",
    "\n",
    "Increased trap density led to more frequent trapping events, and an overall reduced particle mobility. It also caused a slower mean square distance growth over time. Larger lambda values (longer average trapping times) caused more significant delays in particle movement. These two combined exponentially to reduce general particle mobility and square distances given time.\n",
    "\n",
    "### Analysis and Visualization\n",
    "\n",
    "#### Mean Square Displacement vs. Time: \n",
    "* Without traps (ρ = 0.0): MSD grew linearly with time, characteristic of normal diffusion. (MSD ∝ t)\n",
    "* With traps: MSD growth slowed down, higher trap densities and larger lambda values causeda sublinear MSD growth, indicating anomalous diffusion. \n",
    "\n",
    "#### Trapping Density ρ: \n",
    "* With low trap density (ρ = 0.1) MSD showed only slight deviations from linearity. Normal diffusion behaviour was largerly maintained among particles. \n",
    "* With high trap density (ρ = 0.3) MSD growth reduced significantly. Particles frequently were trapped and linearity could not be maintained. \n",
    "\n",
    "#### Trapping Time Parameter λ: \n",
    "\n",
    "* small λ (λ = 0.1): Short trapping times minized impact on MSD, even with a higher trapping density (ρ = 0.2). Diffusion was maintained the same as the case of low trapping density. \n",
    "* Large λ (λ = 10): Caused long trapping times, MSD exhibiting strong sublinear behaviour. Survival probability decreased more rapidly with higher trap densities and larger λ values, immobilized particles were observed susceptible to lower survival rates.\n",
    "\n",
    "The project successfully demonstrated how traps with varying densities and trapping times influence the diffusion of particles in a 2D domain. By incorporating trapping events into the random walk simulation, we observed a transition from normal to anomalous diffusion as trap density and λ increased.\n",
    "\n",
    "References:\n",
    "\n",
    "Mora, S., et al. (2018). Diffusion of a tracer particle in a two-dimensional lattice gas. Physical Review E."
   ]
  },
  {
   "cell_type": "markdown",
   "metadata": {},
   "source": [
    "### Simulation Parameters"
   ]
  },
  {
   "cell_type": "code",
   "execution_count": null,
   "metadata": {},
   "outputs": [],
   "source": [
    "M = 100\n",
    "Num_Particles = 1000\n",
    "T_steps = 500\n",
    "rho_list = [0.0,0.1,0.2,0.3]\n",
    "lambdas = [0.1,1,10]"
   ]
  }
 ],
 "metadata": {
  "kernelspec": {
   "display_name": "Python 3",
   "language": "python",
   "name": "python3"
  },
  "language_info": {
   "name": "python",
   "version": "3.12.6"
  }
 },
 "nbformat": 4,
 "nbformat_minor": 2
}
